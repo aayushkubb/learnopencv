{
  "nbformat": 4,
  "nbformat_minor": 0,
  "metadata": {
    "colab": {
      "name": "keras-mlp-FSASION-mnist-.ipynb",
      "version": "0.3.2",
      "provenance": [],
      "include_colab_link": true
    },
    "kernelspec": {
      "name": "python3",
      "display_name": "Python 3"
    },
    "accelerator": "GPU"
  },
  "cells": [
    {
      "cell_type": "markdown",
      "metadata": {
        "id": "view-in-github",
        "colab_type": "text"
      },
      "source": [
        "<a href=\"https://colab.research.google.com/github/aayushkubb/learnopencv/blob/master/keras_mlp_FSASION_mnist_.ipynb\" target=\"_parent\"><img src=\"https://colab.research.google.com/assets/colab-badge.svg\" alt=\"Open In Colab\"/></a>"
      ]
    },
    {
      "metadata": {
        "id": "EWm5rs_V7VRe",
        "colab_type": "code",
        "colab": {}
      },
      "cell_type": "code",
      "source": [
        "import numpy as np\n",
        "import matplotlib.pyplot as plt\n",
        "%matplotlib inline"
      ],
      "execution_count": 0,
      "outputs": []
    },
    {
      "metadata": {
        "id": "eJjbybF37Zkn",
        "colab_type": "code",
        "colab": {}
      },
      "cell_type": "code",
      "source": [
        "from __future__ import print_function"
      ],
      "execution_count": 0,
      "outputs": []
    },
    {
      "metadata": {
        "id": "dByCErUW71EJ",
        "colab_type": "text"
      },
      "cell_type": "markdown",
      "source": [
        "# Load Data\n",
        "\n",
        "Keras comes with the MNIST data loader. Keras has a function `mnist.load_data()` which downloads the data from its servers if it is not present already. The data loaded using this function is divided into training and test sets."
      ]
    },
    {
      "metadata": {
        "id": "PEI65-lu7abg",
        "colab_type": "code",
        "colab": {
          "base_uri": "https://localhost:8080/",
          "height": 170
        },
        "outputId": "eda27a60-cb1a-43a6-e3c7-f40707989230"
      },
      "cell_type": "code",
      "source": [
        "from keras.datasets import fashion_mnist\n",
        "(train_images, train_labels), (test_images, test_labels) = fashion_mnist.load_data()"
      ],
      "execution_count": 3,
      "outputs": [
        {
          "output_type": "stream",
          "text": [
            "Using TensorFlow backend.\n"
          ],
          "name": "stderr"
        },
        {
          "output_type": "stream",
          "text": [
            "Downloading data from http://fashion-mnist.s3-website.eu-central-1.amazonaws.com/train-labels-idx1-ubyte.gz\n",
            "32768/29515 [=================================] - 0s 0us/step\n",
            "Downloading data from http://fashion-mnist.s3-website.eu-central-1.amazonaws.com/train-images-idx3-ubyte.gz\n",
            "26427392/26421880 [==============================] - 0s 0us/step\n",
            "Downloading data from http://fashion-mnist.s3-website.eu-central-1.amazonaws.com/t10k-labels-idx1-ubyte.gz\n",
            "8192/5148 [===============================================] - 0s 0us/step\n",
            "Downloading data from http://fashion-mnist.s3-website.eu-central-1.amazonaws.com/t10k-images-idx3-ubyte.gz\n",
            "4423680/4422102 [==============================] - 0s 0us/step\n"
          ],
          "name": "stdout"
        }
      ]
    },
    {
      "metadata": {
        "id": "gnYkR6lG73Wd",
        "colab_type": "text"
      },
      "cell_type": "markdown",
      "source": [
        "# Checkout the data\n",
        "\n",
        "The data consists of handwritten numbers ranging from 0 to 9, along with their ground truth. It has 60,000 train samples and 10,000 test samples. Each sample is a 28x28 grayscale image."
      ]
    },
    {
      "metadata": {
        "id": "D6hoTNMi75Sj",
        "colab_type": "code",
        "colab": {}
      },
      "cell_type": "code",
      "source": [
        "from keras.utils import to_categorical"
      ],
      "execution_count": 0,
      "outputs": []
    },
    {
      "metadata": {
        "id": "C4ElFXGX8Hv4",
        "colab_type": "code",
        "colab": {
          "base_uri": "https://localhost:8080/",
          "height": 51
        },
        "outputId": "f6c895a1-7ba0-427d-f72e-174c695eee50"
      },
      "cell_type": "code",
      "source": [
        "print('Training data shape : ', train_images.shape, train_labels.shape)\n",
        "\n",
        "print('Testing data shape : ', test_images.shape, test_labels.shape)"
      ],
      "execution_count": 6,
      "outputs": [
        {
          "output_type": "stream",
          "text": [
            "Training data shape :  (60000, 28, 28) (60000,)\n",
            "Testing data shape :  (10000, 28, 28) (10000,)\n"
          ],
          "name": "stdout"
        }
      ]
    },
    {
      "metadata": {
        "id": "qK5X28C58Ifb",
        "colab_type": "code",
        "colab": {
          "base_uri": "https://localhost:8080/",
          "height": 54
        },
        "outputId": "9c6b183a-5fd8-401e-f125-4ef9bca69309"
      },
      "cell_type": "code",
      "source": [
        "# Find the unique numbers from the train labels\n",
        "classes = np.unique(train_labels)\n",
        "nClasses = len(classes)\n",
        "print('Total number of outputs : ', nClasses)\n",
        "print('Output classes : ', classes)"
      ],
      "execution_count": 7,
      "outputs": [
        {
          "output_type": "stream",
          "text": [
            "Total number of outputs :  10\n",
            "Output classes :  [0 1 2 3 4 5 6 7 8 9]\n"
          ],
          "name": "stdout"
        }
      ]
    },
    {
      "metadata": {
        "id": "lDK1-twZ8JvH",
        "colab_type": "code",
        "colab": {
          "base_uri": "https://localhost:8080/",
          "height": 335
        },
        "outputId": "75ce976a-f1d6-4cef-ec00-01184c56d2c4"
      },
      "cell_type": "code",
      "source": [
        "plt.figure(figsize=[10,5])\n",
        "# Display the first image in training data\n",
        "plt.subplot(121)\n",
        "plt.imshow(train_images[0,:,:], cmap='gray')\n",
        "plt.title(\"Ground Truth : {}\".format(train_labels[0]))\n",
        "# Display the first image in testing data\n",
        "plt.subplot(122)\n",
        "plt.imshow(test_images[0,:,:], cmap='gray')\n",
        "plt.title(\"Ground Truth : {}\".format(test_labels[0]))"
      ],
      "execution_count": 8,
      "outputs": [
        {
          "output_type": "execute_result",
          "data": {
            "text/plain": [
              "Text(0.5, 1.0, 'Ground Truth : 9')"
            ]
          },
          "metadata": {
            "tags": []
          },
          "execution_count": 8
        },
        {
          "output_type": "display_data",
          "data": {
            "image/png": "[encoded data removed]",
            "text/plain": [
              "<Figure size 720x360 with 2 Axes>"
            ]
          },
          "metadata": {
            "tags": []
          }
        }
      ]
    },
    {
      "metadata": {
        "id": "uLr6JPa-8LJA",
        "colab_type": "text"
      },
      "cell_type": "markdown",
      "source": [
        "# Process the data\n",
        "\n",
        "* The images are grayscale and the pixel values range from 0 to 255.\n",
        "* Convert each image matrix ( 28x28 ) to an array ( 28*28 = 784 dimenstional ) which will be fed to the network as a single feature.\n",
        "* We convert the data to float and **scale** the values between 0 to 1.\n",
        "* We also convert the labels from integer to **categorical ( one-hot ) encoding** since that is the format required by Keras to perform multiclass classification. One-hot encoding is a type of boolean representation of integer data. It converts the integer to an array of all zeros except a 1 at the index of the number. For example, using a one-hot encoding of 10 classes, the integer 5 will be encoded as 0000010000"
      ]
    },
    {
      "metadata": {
        "id": "StF7AdZb8ZcU",
        "colab_type": "code",
        "colab": {
          "base_uri": "https://localhost:8080/",
          "height": 35
        },
        "outputId": "bf1a0b16-ae9c-4c02-b1d0-f0e572874098"
      },
      "cell_type": "code",
      "source": [
        "train_images.shape"
      ],
      "execution_count": 9,
      "outputs": [
        {
          "output_type": "execute_result",
          "data": {
            "text/plain": [
              "(60000, 28, 28)"
            ]
          },
          "metadata": {
            "tags": []
          },
          "execution_count": 9
        }
      ]
    },
    {
      "metadata": {
        "id": "bX0cZ3ps8bZA",
        "colab_type": "code",
        "colab": {
          "base_uri": "https://localhost:8080/",
          "height": 35
        },
        "outputId": "4aa9d7a5-dd79-4131-d3ca-2d6bd55781e6"
      },
      "cell_type": "code",
      "source": [
        "test_images.shape"
      ],
      "execution_count": 10,
      "outputs": [
        {
          "output_type": "execute_result",
          "data": {
            "text/plain": [
              "(10000, 28, 28)"
            ]
          },
          "metadata": {
            "tags": []
          },
          "execution_count": 10
        }
      ]
    },
    {
      "metadata": {
        "id": "ST9aR0d58ilv",
        "colab_type": "code",
        "colab": {
          "base_uri": "https://localhost:8080/",
          "height": 1799
        },
        "outputId": "48911054-a993-408b-cd46-31f999dce302"
      },
      "cell_type": "code",
      "source": [
        "help(np.prod)"
      ],
      "execution_count": 12,
      "outputs": [
        {
          "output_type": "stream",
          "text": [
            "Help on function prod in module numpy.core.fromnumeric:\n",
            "\n",
            "prod(a, axis=None, dtype=None, out=None, keepdims=<class 'numpy._globals._NoValue'>)\n",
            "    Return the product of array elements over a given axis.\n",
            "    \n",
            "    Parameters\n",
            "    ----------\n",
            "    a : array_like\n",
            "        Input data.\n",
            "    axis : None or int or tuple of ints, optional\n",
            "        Axis or axes along which a product is performed.  The default,\n",
            "        axis=None, will calculate the product of all the elements in the\n",
            "        input array. If axis is negative it counts from the last to the\n",
            "        first axis.\n",
            "    \n",
            "        .. versionadded:: 1.7.0\n",
            "    \n",
            "        If axis is a tuple of ints, a product is performed on all of the\n",
            "        axes specified in the tuple instead of a single axis or all the\n",
            "        axes as before.\n",
            "    dtype : dtype, optional\n",
            "        The type of the returned array, as well as of the accumulator in\n",
            "        which the elements are multiplied.  The dtype of `a` is used by\n",
            "        default unless `a` has an integer dtype of less precision than the\n",
            "        default platform integer.  In that case, if `a` is signed then the\n",
            "        platform integer is used while if `a` is unsigned then an unsigned\n",
            "        integer of the same precision as the platform integer is used.\n",
            "    out : ndarray, optional\n",
            "        Alternative output array in which to place the result. It must have\n",
            "        the same shape as the expected output, but the type of the output\n",
            "        values will be cast if necessary.\n",
            "    keepdims : bool, optional\n",
            "        If this is set to True, the axes which are reduced are left in the\n",
            "        result as dimensions with size one. With this option, the result\n",
            "        will broadcast correctly against the input array.\n",
            "    \n",
            "        If the default value is passed, then `keepdims` will not be\n",
            "        passed through to the `prod` method of sub-classes of\n",
            "        `ndarray`, however any non-default value will be.  If the\n",
            "        sub-classes `sum` method does not implement `keepdims` any\n",
            "        exceptions will be raised.\n",
            "    \n",
            "    Returns\n",
            "    -------\n",
            "    product_along_axis : ndarray, see `dtype` parameter above.\n",
            "        An array shaped as `a` but with the specified axis removed.\n",
            "        Returns a reference to `out` if specified.\n",
            "    \n",
            "    See Also\n",
            "    --------\n",
            "    ndarray.prod : equivalent method\n",
            "    numpy.doc.ufuncs : Section \"Output arguments\"\n",
            "    \n",
            "    Notes\n",
            "    -----\n",
            "    Arithmetic is modular when using integer types, and no error is\n",
            "    raised on overflow.  That means that, on a 32-bit platform:\n",
            "    \n",
            "    >>> x = np.array([536870910, 536870910, 536870910, 536870910])\n",
            "    >>> np.prod(x)  # random\n",
            "    16\n",
            "    \n",
            "    The product of an empty array is the neutral element 1:\n",
            "    \n",
            "    >>> np.prod([])\n",
            "    1.0\n",
            "    \n",
            "    Examples\n",
            "    --------\n",
            "    By default, calculate the product of all elements:\n",
            "    \n",
            "    >>> np.prod([1.,2.])\n",
            "    2.0\n",
            "    \n",
            "    Even when the input array is two-dimensional:\n",
            "    \n",
            "    >>> np.prod([[1.,2.],[3.,4.]])\n",
            "    24.0\n",
            "    \n",
            "    But we can also specify the axis over which to multiply:\n",
            "    \n",
            "    >>> np.prod([[1.,2.],[3.,4.]], axis=1)\n",
            "    array([  2.,  12.])\n",
            "    \n",
            "    If the type of `x` is unsigned, then the output type is\n",
            "    the unsigned platform integer:\n",
            "    \n",
            "    >>> x = np.array([1, 2, 3], dtype=np.uint8)\n",
            "    >>> np.prod(x).dtype == np.uint\n",
            "    True\n",
            "    \n",
            "    If `x` is of a signed integer type, then the output type\n",
            "    is the default platform integer:\n",
            "    \n",
            "    >>> x = np.array([1, 2, 3], dtype=np.int8)\n",
            "    >>> np.prod(x).dtype == int\n",
            "    True\n",
            "\n"
          ],
          "name": "stdout"
        }
      ]
    },
    {
      "metadata": {
        "id": "ibUtcn8R8tfD",
        "colab_type": "code",
        "colab": {
          "base_uri": "https://localhost:8080/",
          "height": 35
        },
        "outputId": "e8e2330f-dbe3-4419-856a-d3dba2f96056"
      },
      "cell_type": "code",
      "source": [
        "\n",
        "train_images.shape[1:]"
      ],
      "execution_count": 13,
      "outputs": [
        {
          "output_type": "execute_result",
          "data": {
            "text/plain": [
              "(28, 28)"
            ]
          },
          "metadata": {
            "tags": []
          },
          "execution_count": 13
        }
      ]
    },
    {
      "metadata": {
        "id": "rz98Zirn8cUt",
        "colab_type": "code",
        "colab": {}
      },
      "cell_type": "code",
      "source": [
        "dimData = np.prod(train_images.shape[1:])"
      ],
      "execution_count": 0,
      "outputs": []
    },
    {
      "metadata": {
        "id": "U74RHxkh8wYI",
        "colab_type": "code",
        "colab": {
          "base_uri": "https://localhost:8080/",
          "height": 35
        },
        "outputId": "dc2193ba-3d58-4560-ed4c-a5b61d510022"
      },
      "cell_type": "code",
      "source": [
        "dimData"
      ],
      "execution_count": 15,
      "outputs": [
        {
          "output_type": "execute_result",
          "data": {
            "text/plain": [
              "784"
            ]
          },
          "metadata": {
            "tags": []
          },
          "execution_count": 15
        }
      ]
    },
    {
      "metadata": {
        "id": "x9yNfzuG8182",
        "colab_type": "code",
        "colab": {
          "base_uri": "https://localhost:8080/",
          "height": 35
        },
        "outputId": "9f81ff6b-8d98-4e15-ddc1-86c8fca4557d"
      },
      "cell_type": "code",
      "source": [
        "train_images.shape[0]"
      ],
      "execution_count": 16,
      "outputs": [
        {
          "output_type": "execute_result",
          "data": {
            "text/plain": [
              "60000"
            ]
          },
          "metadata": {
            "tags": []
          },
          "execution_count": 16
        }
      ]
    },
    {
      "metadata": {
        "id": "od613qQo8w-H",
        "colab_type": "code",
        "colab": {}
      },
      "cell_type": "code",
      "source": [
        "train_data = train_images.reshape(train_images.shape[0], dimData)\n",
        "test_data = test_images.reshape(test_images.shape[0], dimData)"
      ],
      "execution_count": 0,
      "outputs": []
    },
    {
      "metadata": {
        "id": "uiMhf-S584V4",
        "colab_type": "code",
        "colab": {
          "base_uri": "https://localhost:8080/",
          "height": 35
        },
        "outputId": "b87fb474-38fc-4576-dc74-707f62195cab"
      },
      "cell_type": "code",
      "source": [
        "train_data.shape"
      ],
      "execution_count": 18,
      "outputs": [
        {
          "output_type": "execute_result",
          "data": {
            "text/plain": [
              "(60000, 784)"
            ]
          },
          "metadata": {
            "tags": []
          },
          "execution_count": 18
        }
      ]
    },
    {
      "metadata": {
        "id": "6HO1dBs_85Zm",
        "colab_type": "code",
        "colab": {
          "base_uri": "https://localhost:8080/",
          "height": 35
        },
        "outputId": "395c3df5-df62-4a56-e809-2ccdef742f89"
      },
      "cell_type": "code",
      "source": [
        "test_data.shape"
      ],
      "execution_count": 19,
      "outputs": [
        {
          "output_type": "execute_result",
          "data": {
            "text/plain": [
              "(10000, 784)"
            ]
          },
          "metadata": {
            "tags": []
          },
          "execution_count": 19
        }
      ]
    },
    {
      "metadata": {
        "id": "aTVje-5Z87Ij",
        "colab_type": "code",
        "colab": {}
      },
      "cell_type": "code",
      "source": [
        "# Change to float datatype\n",
        "train_data = train_data.astype('float32')\n",
        "test_data = test_data.astype('float32')\n",
        "\n",
        "train_data/=255\n",
        "test_data/=255\n"
      ],
      "execution_count": 0,
      "outputs": []
    },
    {
      "metadata": {
        "id": "h2VgNxUe9I6U",
        "colab_type": "code",
        "colab": {
          "base_uri": "https://localhost:8080/",
          "height": 54
        },
        "outputId": "6f4c7043-d824-4a45-f244-b819f18d0855"
      },
      "cell_type": "code",
      "source": [
        "print(len(train_labels))\n",
        "train_labels"
      ],
      "execution_count": 22,
      "outputs": [
        {
          "output_type": "stream",
          "text": [
            "60000\n"
          ],
          "name": "stdout"
        },
        {
          "output_type": "execute_result",
          "data": {
            "text/plain": [
              "array([9, 0, 0, ..., 3, 0, 5], dtype=uint8)"
            ]
          },
          "metadata": {
            "tags": []
          },
          "execution_count": 22
        }
      ]
    },
    {
      "metadata": {
        "id": "Aukq3aa29AmI",
        "colab_type": "code",
        "colab": {}
      },
      "cell_type": "code",
      "source": [
        "# Change the labels from integer to categorical data\n",
        "train_labels_one_hot = to_categorical(train_labels)\n",
        "test_labels_one_hot = to_categorical(test_labels)"
      ],
      "execution_count": 0,
      "outputs": []
    },
    {
      "metadata": {
        "id": "HcH3fs509MoL",
        "colab_type": "code",
        "colab": {
          "base_uri": "https://localhost:8080/",
          "height": 108
        },
        "outputId": "eb0af60a-2e3d-4df0-c7c7-17f296cad600"
      },
      "cell_type": "code",
      "source": [
        "print(\"before\")\n",
        "print(train_labels[0])\n",
        "print()\n",
        "print(\"after\")\n",
        "print(train_labels_one_hot[0])"
      ],
      "execution_count": 24,
      "outputs": [
        {
          "output_type": "stream",
          "text": [
            "before\n",
            "9\n",
            "\n",
            "after\n",
            "[0. 0. 0. 0. 0. 0. 0. 0. 0. 1.]\n"
          ],
          "name": "stdout"
        }
      ]
    },
    {
      "metadata": {
        "id": "LTOeDg_d9Udc",
        "colab_type": "code",
        "colab": {
          "base_uri": "https://localhost:8080/",
          "height": 54
        },
        "outputId": "f9b5f3ae-2ce9-4395-870b-522969a46e61"
      },
      "cell_type": "code",
      "source": [
        "# Display the change for category label using one-hot encoding\n",
        "print('Original label 0 : ', train_labels[0])\n",
        "print('After conversion to categorical ( one-hot ) : ', train_labels_one_hot[0])"
      ],
      "execution_count": 25,
      "outputs": [
        {
          "output_type": "stream",
          "text": [
            "Original label 0 :  9\n",
            "After conversion to categorical ( one-hot ) :  [0. 0. 0. 0. 0. 0. 0. 0. 0. 1.]\n"
          ],
          "name": "stdout"
        }
      ]
    },
    {
      "metadata": {
        "id": "7TcGsyzj9gec",
        "colab_type": "text"
      },
      "cell_type": "markdown",
      "source": [
        "# Create the network"
      ]
    },
    {
      "metadata": {
        "id": "NEDCx2vN9UgP",
        "colab_type": "code",
        "colab": {}
      },
      "cell_type": "code",
      "source": [
        "from keras.models import Sequential\n",
        "from keras.layers import Dense"
      ],
      "execution_count": 0,
      "outputs": []
    },
    {
      "metadata": {
        "id": "xkiJd6WG9UjX",
        "colab_type": "code",
        "colab": {}
      },
      "cell_type": "code",
      "source": [
        "model = Sequential()\n",
        "model.add(Dense(512, activation='relu', input_shape=(dimData,)))\n",
        "model.add(Dense(512, activation='relu'))\n",
        "model.add(Dense(512, activation='relu'))\n",
        "model.add(Dense(nClasses, activation='softmax'))"
      ],
      "execution_count": 0,
      "outputs": []
    },
    {
      "metadata": {
        "id": "An1rgA4I9nm_",
        "colab_type": "code",
        "colab": {}
      },
      "cell_type": "code",
      "source": [
        "model.compile(optimizer='rmsprop', loss='categorical_crossentropy', metrics=['accuracy'])"
      ],
      "execution_count": 0,
      "outputs": []
    },
    {
      "metadata": {
        "id": "9OMnSqW89xcs",
        "colab_type": "code",
        "colab": {
          "base_uri": "https://localhost:8080/",
          "height": 474
        },
        "outputId": "8de89fa3-5f18-4cb0-dad7-d9fce642b74d"
      },
      "cell_type": "code",
      "source": [
        "history = model.fit(train_data, train_labels_one_hot, batch_size=256, epochs=10, verbose=1, \n",
        "                   validation_data=(test_data, test_labels_one_hot))"
      ],
      "execution_count": 32,
      "outputs": [
        {
          "output_type": "stream",
          "text": [
            "WARNING:tensorflow:From /usr/local/lib/python3.6/dist-packages/tensorflow/python/ops/math_ops.py:3066: to_int32 (from tensorflow.python.ops.math_ops) is deprecated and will be removed in a future version.\n",
            "Instructions for updating:\n",
            "Use tf.cast instead.\n",
            "Train on 60000 samples, validate on 10000 samples\n",
            "Epoch 1/10\n",
            "60000/60000 [==============================] - 4s 68us/step - loss: 0.6275 - acc: 0.7690 - val_loss: 0.5509 - val_acc: 0.7971\n",
            "Epoch 2/10\n",
            "60000/60000 [==============================] - 2s 29us/step - loss: 0.4085 - acc: 0.8486 - val_loss: 0.4835 - val_acc: 0.8245\n",
            "Epoch 3/10\n",
            "60000/60000 [==============================] - 2s 28us/step - loss: 0.3611 - acc: 0.8674 - val_loss: 0.4428 - val_acc: 0.8380\n",
            "Epoch 4/10\n",
            "60000/60000 [==============================] - 2s 28us/step - loss: 0.3262 - acc: 0.8782 - val_loss: 0.3723 - val_acc: 0.8684\n",
            "Epoch 5/10\n",
            "60000/60000 [==============================] - 2s 28us/step - loss: 0.3026 - acc: 0.8876 - val_loss: 0.3517 - val_acc: 0.8745\n",
            "Epoch 6/10\n",
            "60000/60000 [==============================] - 2s 28us/step - loss: 0.2852 - acc: 0.8931 - val_loss: 0.4523 - val_acc: 0.8467\n",
            "Epoch 7/10\n",
            "60000/60000 [==============================] - 2s 28us/step - loss: 0.2706 - acc: 0.8971 - val_loss: 0.4186 - val_acc: 0.8643\n",
            "Epoch 8/10\n",
            "60000/60000 [==============================] - 2s 28us/step - loss: 0.2605 - acc: 0.9022 - val_loss: 0.3848 - val_acc: 0.8721\n",
            "Epoch 9/10\n",
            "60000/60000 [==============================] - 2s 28us/step - loss: 0.2476 - acc: 0.9054 - val_loss: 0.4021 - val_acc: 0.8639\n",
            "Epoch 10/10\n",
            "60000/60000 [==============================] - 2s 28us/step - loss: 0.2398 - acc: 0.9082 - val_loss: 0.4383 - val_acc: 0.8676\n"
          ],
          "name": "stdout"
        }
      ]
    },
    {
      "metadata": {
        "id": "nukpNcPn-nti",
        "colab_type": "code",
        "colab": {
          "base_uri": "https://localhost:8080/",
          "height": 429
        },
        "outputId": "be9f9399-af6b-4e38-e510-45fc646293b6"
      },
      "cell_type": "code",
      "source": [
        "plt.figure(figsize=[8,6])\n",
        "plt.plot(history.history['loss'],'r',linewidth=3.0)\n",
        "plt.plot(history.history['val_loss'],'b',linewidth=3.0)\n",
        "plt.legend(['Training loss', 'Validation Loss'],fontsize=18)\n",
        "plt.xlabel('Epochs ',fontsize=16)\n",
        "plt.ylabel('Loss',fontsize=16)\n",
        "plt.title('Loss Curves',fontsize=16)"
      ],
      "execution_count": 33,
      "outputs": [
        {
          "output_type": "execute_result",
          "data": {
            "text/plain": [
              "Text(0.5, 1.0, 'Loss Curves')"
            ]
          },
          "metadata": {
            "tags": []
          },
          "execution_count": 33
        },
        {
          "output_type": "display_data",
          "data": {
            "image/png": "[encoded data removed]",
            "text/plain": [
              "<Figure size 576x432 with 1 Axes>"
            ]
          },
          "metadata": {
            "tags": []
          }
        }
      ]
    },
    {
      "metadata": {
        "id": "iRw7BreY-tlM",
        "colab_type": "code",
        "colab": {
          "base_uri": "https://localhost:8080/",
          "height": 429
        },
        "outputId": "0c792d7a-8a9d-4288-9617-fdbde533cd8b"
      },
      "cell_type": "code",
      "source": [
        "plt.figure(figsize=[8,6])\n",
        "plt.plot(history.history['acc'],'r',linewidth=3.0)\n",
        "plt.plot(history.history['val_acc'],'b',linewidth=3.0)\n",
        "plt.legend(['Training Accuracy', 'Validation Accuracy'],fontsize=18)\n",
        "plt.xlabel('Epochs ',fontsize=16)\n",
        "plt.ylabel('Accuracy',fontsize=16)\n",
        "plt.title('Accuracy Curves',fontsize=16)"
      ],
      "execution_count": 34,
      "outputs": [
        {
          "output_type": "execute_result",
          "data": {
            "text/plain": [
              "Text(0.5, 1.0, 'Accuracy Curves')"
            ]
          },
          "metadata": {
            "tags": []
          },
          "execution_count": 34
        },
        {
          "output_type": "display_data",
          "data": {
            "image/png": "[encoded data removed]",
            "text/plain": [
              "<Figure size 576x432 with 1 Axes>"
            ]
          },
          "metadata": {
            "tags": []
          }
        }
      ]
    },
    {
      "metadata": {
        "id": "vcvj__yx-ys_",
        "colab_type": "code",
        "colab": {}
      },
      "cell_type": "code",
      "source": [
        "#Model Evaluation"
      ],
      "execution_count": 0,
      "outputs": []
    },
    {
      "metadata": {
        "id": "IMoRi-Vj_LV6",
        "colab_type": "code",
        "colab": {
          "base_uri": "https://localhost:8080/",
          "height": 35
        },
        "outputId": "6fb81c8d-4488-470e-a3b4-844955727eaa"
      },
      "cell_type": "code",
      "source": [
        "[test_loss, test_acc] = model.evaluate(test_data, test_labels_one_hot)"
      ],
      "execution_count": 36,
      "outputs": [
        {
          "output_type": "stream",
          "text": [
            "10000/10000 [==============================] - 1s 50us/step\n"
          ],
          "name": "stdout"
        }
      ]
    },
    {
      "metadata": {
        "id": "9q7ojMnO_Nx4",
        "colab_type": "code",
        "colab": {
          "base_uri": "https://localhost:8080/",
          "height": 35
        },
        "outputId": "137fbc67-84e4-41eb-f7d0-276e53ebd4a1"
      },
      "cell_type": "code",
      "source": [
        "print(\"Evaluation result on Test Data : Loss = {}, accuracy = {}\".format(test_loss, test_acc))"
      ],
      "execution_count": 37,
      "outputs": [
        {
          "output_type": "stream",
          "text": [
            "Evaluation result on Test Data : Loss = 0.4383388122677803, accuracy = 0.8676\n"
          ],
          "name": "stdout"
        }
      ]
    },
    {
      "metadata": {
        "id": "EVzKWASd_PSg",
        "colab_type": "code",
        "colab": {}
      },
      "cell_type": "code",
      "source": [
        "# With Dropuot"
      ],
      "execution_count": 0,
      "outputs": []
    },
    {
      "metadata": {
        "id": "B9OEzvlA_Sjw",
        "colab_type": "code",
        "colab": {}
      },
      "cell_type": "code",
      "source": [
        "from keras.layers import Dropout\n",
        "model_reg = Sequential()\n",
        "model_reg.add(Dense(512, activation='relu', input_shape=(dimData,)))\n",
        "model_reg.add(Dropout(0.5))\n",
        "model_reg.add(Dense(512, activation='relu'))\n",
        "model_reg.add(Dropout(0.5))\n",
        "model_reg.add(Dense(nClasses, activation='softmax'))"
      ],
      "execution_count": 0,
      "outputs": []
    },
    {
      "metadata": {
        "id": "G0aC7MmQ_WI5",
        "colab_type": "code",
        "colab": {}
      },
      "cell_type": "code",
      "source": [
        "model_reg.compile(optimizer='rmsprop', loss='categorical_crossentropy', metrics=['accuracy'])"
      ],
      "execution_count": 0,
      "outputs": []
    },
    {
      "metadata": {
        "colab_type": "code",
        "outputId": "4d600ef7-a135-406d-e356-85e5d0ab0181",
        "id": "ujRxeu_y_tjN",
        "colab": {
          "base_uri": "https://localhost:8080/",
          "height": 763
        }
      },
      "cell_type": "code",
      "source": [
        "history_reg = model_reg.fit(train_data, train_labels_one_hot, batch_size=256, epochs=20, verbose=1, \n",
        "                            validation_data=(test_data, test_labels_one_hot))"
      ],
      "execution_count": 52,
      "outputs": [
        {
          "output_type": "stream",
          "text": [
            "Train on 60000 samples, validate on 10000 samples\n",
            "Epoch 1/20\n",
            "60000/60000 [==============================] - 2s 32us/step - loss: 0.6805 - acc: 0.7535 - val_loss: 0.5103 - val_acc: 0.8022\n",
            "Epoch 2/20\n",
            "60000/60000 [==============================] - 2s 26us/step - loss: 0.4696 - acc: 0.8286 - val_loss: 0.4358 - val_acc: 0.8363\n",
            "Epoch 3/20\n",
            "60000/60000 [==============================] - 2s 26us/step - loss: 0.4261 - acc: 0.8463 - val_loss: 0.4328 - val_acc: 0.8379\n",
            "Epoch 4/20\n",
            "60000/60000 [==============================] - 2s 25us/step - loss: 0.3978 - acc: 0.8546 - val_loss: 0.3697 - val_acc: 0.8701\n",
            "Epoch 5/20\n",
            "60000/60000 [==============================] - 2s 26us/step - loss: 0.3881 - acc: 0.8604 - val_loss: 0.3758 - val_acc: 0.8633\n",
            "Epoch 6/20\n",
            "60000/60000 [==============================] - 2s 25us/step - loss: 0.3748 - acc: 0.8643 - val_loss: 0.3827 - val_acc: 0.8636\n",
            "Epoch 7/20\n",
            "60000/60000 [==============================] - 2s 25us/step - loss: 0.3639 - acc: 0.8686 - val_loss: 0.4251 - val_acc: 0.8458\n",
            "Epoch 8/20\n",
            "60000/60000 [==============================] - 2s 25us/step - loss: 0.3562 - acc: 0.8730 - val_loss: 0.3659 - val_acc: 0.8765\n",
            "Epoch 9/20\n",
            "60000/60000 [==============================] - 2s 25us/step - loss: 0.3489 - acc: 0.8738 - val_loss: 0.3710 - val_acc: 0.8710\n",
            "Epoch 10/20\n",
            "60000/60000 [==============================] - 2s 25us/step - loss: 0.3491 - acc: 0.8758 - val_loss: 0.3711 - val_acc: 0.8670\n",
            "Epoch 11/20\n",
            "60000/60000 [==============================] - 2s 25us/step - loss: 0.3415 - acc: 0.8765 - val_loss: 0.3586 - val_acc: 0.8754\n",
            "Epoch 12/20\n",
            "60000/60000 [==============================] - 2s 25us/step - loss: 0.3378 - acc: 0.8794 - val_loss: 0.3667 - val_acc: 0.8751\n",
            "Epoch 13/20\n",
            "60000/60000 [==============================] - 2s 25us/step - loss: 0.3304 - acc: 0.8821 - val_loss: 0.3964 - val_acc: 0.8712\n",
            "Epoch 14/20\n",
            "60000/60000 [==============================] - 2s 25us/step - loss: 0.3342 - acc: 0.8821 - val_loss: 0.3791 - val_acc: 0.8678\n",
            "Epoch 15/20\n",
            "60000/60000 [==============================] - 2s 25us/step - loss: 0.3270 - acc: 0.8843 - val_loss: 0.3780 - val_acc: 0.8758\n",
            "Epoch 16/20\n",
            "60000/60000 [==============================] - 2s 26us/step - loss: 0.3265 - acc: 0.8857 - val_loss: 0.3908 - val_acc: 0.8712\n",
            "Epoch 17/20\n",
            "60000/60000 [==============================] - 2s 26us/step - loss: 0.3220 - acc: 0.8848 - val_loss: 0.3657 - val_acc: 0.8829\n",
            "Epoch 18/20\n",
            "60000/60000 [==============================] - 2s 26us/step - loss: 0.3182 - acc: 0.8887 - val_loss: 0.3555 - val_acc: 0.8821\n",
            "Epoch 19/20\n",
            "60000/60000 [==============================] - 2s 25us/step - loss: 0.3180 - acc: 0.8883 - val_loss: 0.3875 - val_acc: 0.8795\n",
            "Epoch 20/20\n",
            "60000/60000 [==============================] - 2s 25us/step - loss: 0.3161 - acc: 0.8880 - val_loss: 0.3676 - val_acc: 0.8785\n"
          ],
          "name": "stdout"
        }
      ]
    },
    {
      "metadata": {
        "colab_type": "code",
        "outputId": "3db92e4c-055f-486a-bad8-27319ae898fa",
        "id": "xajJ1-DQ_tjT",
        "colab": {
          "base_uri": "https://localhost:8080/",
          "height": 429
        }
      },
      "cell_type": "code",
      "source": [
        "plt.figure(figsize=[8,6])\n",
        "plt.plot(history_reg.history['loss'],'r',linewidth=3.0)\n",
        "plt.plot(history_reg.history['val_loss'],'b',linewidth=3.0)\n",
        "plt.legend(['Training loss', 'Validation Loss'],fontsize=18)\n",
        "plt.xlabel('Epochs ',fontsize=16)\n",
        "plt.ylabel('Loss',fontsize=16)\n",
        "plt.title('Loss Curves',fontsize=16)"
      ],
      "execution_count": 53,
      "outputs": [
        {
          "output_type": "execute_result",
          "data": {
            "text/plain": [
              "Text(0.5, 1.0, 'Loss Curves')"
            ]
          },
          "metadata": {
            "tags": []
          },
          "execution_count": 53
        },
        {
          "output_type": "display_data",
          "data": {
            "image/png": "[encoded data removed]",
            "text/plain": [
              "<Figure size 576x432 with 1 Axes>"
            ]
          },
          "metadata": {
            "tags": []
          }
        }
      ]
    },
    {
      "metadata": {
        "colab_type": "code",
        "outputId": "0bb26ef6-3afb-4c4a-cd34-1015d65fd878",
        "id": "A9msVBqu_tjZ",
        "colab": {
          "base_uri": "https://localhost:8080/",
          "height": 429
        }
      },
      "cell_type": "code",
      "source": [
        "plt.figure(figsize=[8,6])\n",
        "plt.plot(history_reg.history['acc'],'r',linewidth=3.0)\n",
        "plt.plot(history_reg.history['val_acc'],'b',linewidth=3.0)\n",
        "plt.legend(['Training Accuracy', 'Validation Accuracy'],fontsize=18)\n",
        "plt.xlabel('Epochs ',fontsize=16)\n",
        "plt.ylabel('Accuracy',fontsize=16)\n",
        "plt.title('Accuracy Curves',fontsize=16)"
      ],
      "execution_count": 54,
      "outputs": [
        {
          "output_type": "execute_result",
          "data": {
            "text/plain": [
              "Text(0.5, 1.0, 'Accuracy Curves')"
            ]
          },
          "metadata": {
            "tags": []
          },
          "execution_count": 54
        },
        {
          "output_type": "display_data",
          "data": {
            "image/png": "[encoded data removed]",
            "text/plain": [
              "<Figure size 576x432 with 1 Axes>"
            ]
          },
          "metadata": {
            "tags": []
          }
        }
      ]
    },
    {
      "metadata": {
        "colab_type": "code",
        "id": "5GZkM7Y__tjh",
        "colab": {}
      },
      "cell_type": "code",
      "source": [
        "#Model Evaluation"
      ],
      "execution_count": 0,
      "outputs": []
    },
    {
      "metadata": {
        "colab_type": "code",
        "outputId": "621c7a65-8c64-4dba-a632-4896871f8fca",
        "id": "V_0a5q8J_tjk",
        "colab": {
          "base_uri": "https://localhost:8080/",
          "height": 35
        }
      },
      "cell_type": "code",
      "source": [
        "[test_loss, test_acc] = model_reg.evaluate(test_data, test_labels_one_hot)"
      ],
      "execution_count": 56,
      "outputs": [
        {
          "output_type": "stream",
          "text": [
            "10000/10000 [==============================] - 0s 49us/step\n"
          ],
          "name": "stdout"
        }
      ]
    },
    {
      "metadata": {
        "colab_type": "code",
        "outputId": "ee77e613-5901-4f9f-fdb4-1b5efbade76c",
        "id": "H9idoWvK_tjq",
        "colab": {
          "base_uri": "https://localhost:8080/",
          "height": 35
        }
      },
      "cell_type": "code",
      "source": [
        "print(\"Evaluation result on Test Data : Loss = {}, accuracy = {}\".format(test_loss, test_acc))"
      ],
      "execution_count": 57,
      "outputs": [
        {
          "output_type": "stream",
          "text": [
            "Evaluation result on Test Data : Loss = 0.3676383327126503, accuracy = 0.8785\n"
          ],
          "name": "stdout"
        }
      ]
    },
    {
      "metadata": {
        "colab_type": "code",
        "outputId": "77c1c4b3-d9c4-403d-c30b-d2b6e8d39c89",
        "id": "0PG-ylLv_nkl",
        "colab": {
          "base_uri": "https://localhost:8080/",
          "height": 72
        }
      },
      "cell_type": "code",
      "source": [
        "# Predict the probabilities for each class \n",
        "model_reg.predict(test_data[[0],:])"
      ],
      "execution_count": 58,
      "outputs": [
        {
          "output_type": "execute_result",
          "data": {
            "text/plain": [
              "array([[3.3250117e-10, 2.6810032e-13, 5.1917772e-09, 6.4647376e-12,\n",
              "        7.1740534e-09, 1.7770076e-03, 1.3640447e-08, 2.8440147e-03,\n",
              "        4.3241872e-09, 9.9537897e-01]], dtype=float32)"
            ]
          },
          "metadata": {
            "tags": []
          },
          "execution_count": 58
        }
      ]
    },
    {
      "metadata": {
        "colab_type": "code",
        "outputId": "3afb193b-5cad-449c-fa15-905795a79cd6",
        "id": "Y7yV0bdZ_nky",
        "colab": {
          "base_uri": "https://localhost:8080/",
          "height": 35
        }
      },
      "cell_type": "code",
      "source": [
        "test_labels[0]"
      ],
      "execution_count": 59,
      "outputs": [
        {
          "output_type": "execute_result",
          "data": {
            "text/plain": [
              "9"
            ]
          },
          "metadata": {
            "tags": []
          },
          "execution_count": 59
        }
      ]
    },
    {
      "metadata": {
        "colab_type": "code",
        "outputId": "a561c36d-26e1-4c08-b99d-915a78d19594",
        "id": "RD8EWKyc_nk4",
        "colab": {
          "base_uri": "https://localhost:8080/",
          "height": 54
        }
      },
      "cell_type": "code",
      "source": [
        "# Predict the most likely class\n",
        "print(test_labels[10])\n",
        "model_reg.predict_classes(test_data[[10],:])\n"
      ],
      "execution_count": 60,
      "outputs": [
        {
          "output_type": "stream",
          "text": [
            "4\n"
          ],
          "name": "stdout"
        },
        {
          "output_type": "execute_result",
          "data": {
            "text/plain": [
              "array([4])"
            ]
          },
          "metadata": {
            "tags": []
          },
          "execution_count": 60
        }
      ]
    },
    {
      "metadata": {
        "id": "uyY8orc3AMt_",
        "colab_type": "code",
        "colab": {}
      },
      "cell_type": "code",
      "source": [
        ""
      ],
      "execution_count": 0,
      "outputs": []
    }
  ]
}